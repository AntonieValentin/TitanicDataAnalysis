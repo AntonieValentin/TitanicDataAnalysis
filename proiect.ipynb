{
 "cells": [
  {
   "cell_type": "code",
   "execution_count": 1,
   "metadata": {},
   "outputs": [],
   "source": [
    "import pandas as pd\n",
    "from sklearn.tree import DecisionTreeRegressor\n",
    "from sklearn.metrics import accuracy_score, log_loss, confusion_matrix\n",
    "import matplotlib.pyplot as plt\n",
    "import seaborn as sns\n",
    "datatrain = pd.read_csv('train.csv')\n",
    "datatest = pd.read_csv('test.csv')"
   ]
  },
  {
   "cell_type": "code",
   "execution_count": 2,
   "metadata": {},
   "outputs": [],
   "source": [
    "Q1 = datatrain['Age'].quantile(0.25)\n",
    "Q3 = datatrain['Age'].quantile(0.75)\n",
    "IQR = Q3 - Q1\n",
    "a = Q1 - 1.5 * IQR\n",
    "b = Q3 + 1.5 * IQR\n",
    "datatrain = datatrain.drop(datatrain[datatrain['Age'] > b].index)\n",
    "datatrain = datatrain.drop(datatrain[datatrain['Age'] < a].index)\n",
    "datatrain.to_csv('train1.csv', index=False)"
   ]
  },
  {
   "cell_type": "code",
   "execution_count": 3,
   "metadata": {},
   "outputs": [],
   "source": [
    "mean = datatrain['Age'].mean()\n",
    "standard_deviation = datatrain['Age'].std()\n",
    "Z_score = (datatrain['Age'] - mean) / standard_deviation\n",
    "cond = abs(Z_score) > 3\n",
    "datatrain = datatrain.drop(datatrain[cond].index)\n",
    "datatrain.to_csv('train2.csv', index=False)\n"
   ]
  },
  {
   "cell_type": "code",
   "execution_count": 6,
   "metadata": {},
   "outputs": [
    {
     "name": "stdout",
     "output_type": "stream",
     "text": [
      "Accuracy: 0.8229665071770335\n",
      "Loss: 6.380933853575763\n"
     ]
    },
    {
     "data": {
      "image/png": "[encoded data removed]",
      "text/plain": [
       "<Figure size 900x700 with 2 Axes>"
      ]
     },
     "metadata": {},
     "output_type": "display_data"
    }
   ],
   "source": [
    "numeric_columns = datatrain.select_dtypes(include=['number']).columns\n",
    "datatrain[numeric_columns] = datatrain[numeric_columns].fillna(datatrain[numeric_columns].mean())\n",
    "nonnumeric_columns = datatrain.select_dtypes(include=['object']).columns\n",
    "most_frequent_values = datatrain[nonnumeric_columns].mode().iloc[0]\n",
    "datatrain[nonnumeric_columns] = datatrain[nonnumeric_columns].fillna(most_frequent_values)\n",
    "datatrain_numeric = pd.get_dummies(datatrain)\n",
    "datatrain_normalized = datatrain_numeric / datatrain_numeric.max()\n",
    "model =  DecisionTreeRegressor()\n",
    "x_train = datatrain_normalized.drop(\"Survived\", axis=1)\n",
    "y_train = datatrain_normalized[\"Survived\"]\n",
    " \n",
    "numeric_columns_test = datatest.select_dtypes(include=['number']).columns\n",
    "datatest[numeric_columns_test] = datatest[numeric_columns_test].fillna(datatest[numeric_columns_test].mean())\n",
    "nonnumeric_columns_test = datatest.select_dtypes(include=['object']).columns\n",
    "most_frequent_values_test = datatest[nonnumeric_columns_test].mode().iloc[0]\n",
    "datatest[nonnumeric_columns_test] = datatest[nonnumeric_columns_test].fillna(most_frequent_values_test)\n",
    "datatest_numeric = pd.get_dummies(datatest)\n",
    "datatest_normalized = datatest_numeric / datatest_numeric.max()\n",
    "x_test = datatest_normalized\n",
    "common_columns = x_test.columns.intersection(x_train.columns)\n",
    "x_test = x_test[common_columns]\n",
    "x_train = x_train[common_columns]\n",
    "y_test = pd.read_csv('gender_submission.csv')\n",
    "y_test = y_test.drop(y_test.columns[0], axis=1)\n",
    "model.fit(x_train,y_train)\n",
    "y_pred = model.predict(x_test)\n",
    "accuracy = accuracy_score(y_test, y_pred)\n",
    "print(\"Accuracy:\", accuracy)\n",
    "loss = log_loss(y_test, y_pred)\n",
    "print(\"Loss:\", loss)\n",
    "\n",
    "conf_matrix = confusion_matrix(y_test, y_pred)\n",
    "plt.figure(figsize=(9, 7))\n",
    "sns.heatmap(conf_matrix, annot=True, fmt='d', cmap='Greens')\n",
    "plt.xlabel('Predicted')\n",
    "plt.ylabel('Actual')\n",
    "plt.show()"
   ]
  }
 ],
 "metadata": {
  "kernelspec": {
   "display_name": "Python 3",
   "language": "python",
   "name": "python3"
  },
  "language_info": {
   "codemirror_mode": {
    "name": "ipython",
    "version": 3
   },
   "file_extension": ".py",
   "mimetype": "text/x-python",
   "name": "python",
   "nbconvert_exporter": "python",
   "pygments_lexer": "ipython3",
   "version": "3.12.3"
  }
 },
 "nbformat": 4,
 "nbformat_minor": 2
}
